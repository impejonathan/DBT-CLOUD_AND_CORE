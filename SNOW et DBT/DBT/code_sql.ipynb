{
 "cells": [
  {
   "cell_type": "markdown",
   "id": "524ad0bf",
   "metadata": {},
   "source": [
    "### code pour crée une vue avec les time stamp \n",
    "### fichier \"YELLOW_TAXI_TRIPS_1.sql\""
   ]
  },
  {
   "cell_type": "code",
   "execution_count": null,
   "id": "1c5048b1",
   "metadata": {
    "vscode": {
     "languageId": "sql"
    }
   },
   "outputs": [],
   "source": [
    "SELECT \n",
    "    VENDORID,\n",
    "    \n",
    "    -- Conversion du timestamp microsecondes en TIMESTAMP Snowflake\n",
    "    -- Puis extraction des éléments souhaités\n",
    "    TO_TIMESTAMP_NTZ(TPEP_PICKUP_DATETIME / 1000000) AS PICKUP_DATETIME,\n",
    "    EXTRACT(MINUTE FROM TO_TIMESTAMP_NTZ(TPEP_PICKUP_DATETIME / 1000000)) AS PICKUP_MINUTE,\n",
    "    EXTRACT(HOUR FROM TO_TIMESTAMP_NTZ(TPEP_PICKUP_DATETIME / 1000000)) AS PICKUP_HEURE,\n",
    "    EXTRACT(DAY FROM TO_TIMESTAMP_NTZ(TPEP_PICKUP_DATETIME / 1000000)) AS PICKUP_JOUR,\n",
    "    EXTRACT(MONTH FROM TO_TIMESTAMP_NTZ(TPEP_PICKUP_DATETIME / 1000000)) AS PICKUP_MOIS,\n",
    "    EXTRACT(YEAR FROM TO_TIMESTAMP_NTZ(TPEP_PICKUP_DATETIME / 1000000)) AS PICKUP_ANNEE,\n",
    "\n",
    "    TO_TIMESTAMP_NTZ(TPEP_DROPOFF_DATETIME / 1000000) AS DROPOFF_DATETIME,\n",
    "    EXTRACT(MINUTE FROM TO_TIMESTAMP_NTZ(TPEP_DROPOFF_DATETIME / 1000000)) AS DROPOFF_MINUTE,\n",
    "    EXTRACT(HOUR FROM TO_TIMESTAMP_NTZ(TPEP_DROPOFF_DATETIME / 1000000)) AS DROPOFF_HEURE,\n",
    "    EXTRACT(DAY FROM TO_TIMESTAMP_NTZ(TPEP_DROPOFF_DATETIME / 1000000)) AS DROPOFF_JOUR,\n",
    "    EXTRACT(MONTH FROM TO_TIMESTAMP_NTZ(TPEP_DROPOFF_DATETIME / 1000000)) AS DROPOFF_MOIS,\n",
    "    EXTRACT(YEAR FROM TO_TIMESTAMP_NTZ(TPEP_DROPOFF_DATETIME / 1000000)) AS DROPOFF_ANNEE,\n",
    "    \n",
    "    PASSENGER_COUNT,\n",
    "    TRIP_DISTANCE,\n",
    "    RATECODEID,\n",
    "    STORE_AND_FWD_FLAG,\n",
    "    PULOCATIONID,\n",
    "    DOLOCATIONID,\n",
    "    PAYMENT_TYPE,\n",
    "    FARE_AMOUNT,\n",
    "    EXTRA,\n",
    "    MTA_TAX,\n",
    "    TIP_AMOUNT,\n",
    "    TOLLS_AMOUNT,\n",
    "    IMPROVEMENT_SURCHARGE,\n",
    "    TOTAL_AMOUNT,\n",
    "    CONGESTION_SURCHARGE,\n",
    "    AIRPORT_FEE,\n",
    "    CBD_CONGESTION_FEE\n",
    "\n",
    "FROM NYC_TAXI_DB.RAW.YELLOW_TAXI_TRIPS"
   ]
  }
 ],
 "metadata": {
  "language_info": {
   "name": "python"
  }
 },
 "nbformat": 4,
 "nbformat_minor": 5
}
