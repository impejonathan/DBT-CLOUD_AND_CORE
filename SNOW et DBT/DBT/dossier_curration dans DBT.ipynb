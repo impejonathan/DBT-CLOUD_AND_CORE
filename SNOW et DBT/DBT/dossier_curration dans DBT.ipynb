{
 "cells": [
  {
   "cell_type": "markdown",
   "id": "524ad0bf",
   "metadata": {},
   "source": [
    "### models/curation/curation_hosts.sql"
   ]
  },
  {
   "cell_type": "markdown",
   "id": "dc0e8151",
   "metadata": {},
   "source": [
    "le FROM {{ source('raw_airbnb_data', 'hosts') }}  c'est pour le linéage "
   ]
  },
  {
   "cell_type": "code",
   "execution_count": null,
   "id": "1c5048b1",
   "metadata": {
    "vscode": {
     "languageId": "sql"
    }
   },
   "outputs": [],
   "source": [
    "-- SELECT\n",
    "--     host_id,\n",
    "--     host_name,\n",
    "\n",
    "--     -- Découper la date en année, mois, jour\n",
    "--     YEAR(host_since)    AS host_since_year,\n",
    "--     MONTH(host_since)   AS host_since_month,\n",
    "--     DAY(host_since)     AS host_since_day,\n",
    "\n",
    "--     -- Spliter la ville et le pays (gestion du cas où il n'y a que le pays)\n",
    "--     CASE \n",
    "--         WHEN POSITION(',' IN host_location) > 0 \n",
    "--             THEN SPLIT_PART(host_location, ',', 1)\n",
    "--         ELSE NULL\n",
    "--     END AS city,\n",
    "\n",
    "--     CASE \n",
    "--         WHEN POSITION(',' IN host_location) > 0 \n",
    "--             THEN TRIM(SPLIT_PART(host_location, ',', 2))\n",
    "--         ELSE TRIM(host_location)\n",
    "--     END AS country,\n",
    "\n",
    "--     host_response_time,\n",
    "\n",
    "--     -- Nettoyer le % et convertir en nombre entier\n",
    "--     CASE \n",
    "--         WHEN host_response_rate IS NOT NULL \n",
    "--         THEN TRY_CAST(REPLACE(host_response_rate, '%', '') AS INT)\n",
    "--         ELSE NULL\n",
    "--     END AS host_response_rate,\n",
    "\n",
    "--     -- Conversion en boolean (t/f -> TRUE/FALSE)\n",
    "--     CASE \n",
    "--         WHEN host_is_superhost = 't' THEN TRUE\n",
    "--         WHEN host_is_superhost = 'f' THEN FALSE\n",
    "--         ELSE NULL\n",
    "--     END AS host_is_superhost,\n",
    "\n",
    "--     host_neighbourhood,\n",
    "\n",
    "--     CASE \n",
    "--         WHEN host_identity_verified = 't' THEN TRUE\n",
    "--         WHEN host_identity_verified = 'f' THEN FALSE\n",
    "--         ELSE NULL\n",
    "--     END AS host_identity_verified\n",
    "\n",
    "-- FROM {{ source('raw_airbnb_data', 'hosts') }}"
   ]
  },
  {
   "cell_type": "markdown",
   "id": "9cdbe897",
   "metadata": {},
   "source": [
    "models\n",
    "/\n",
    "curation\n",
    "/\n",
    "curation_lineage.sql"
   ]
  },
  {
   "cell_type": "code",
   "execution_count": null,
   "id": "8bc767c2",
   "metadata": {
    "vscode": {
     "languageId": "sql"
    }
   },
   "outputs": [],
   "source": [
    "-- SELECT\n",
    "--     l.id AS listing_id,\n",
    "--     l.listing_url,\n",
    "--     l.name AS listing_name,\n",
    "--     l.price,\n",
    "--     h.host_id,\n",
    "--     h.host_name,\n",
    "--     h.host_since_year,\n",
    "--     h.host_since_month,\n",
    "--     h.host_since_day,\n",
    "--     h.city AS host_city,\n",
    "--     h.country AS host_country,\n",
    "--     h.host_is_superhost,\n",
    "--     h.host_identity_verified,\n",
    "--     r.date AS review_date,\n",
    "--     r.day AS review_day,\n",
    "--     r.month AS review_month,\n",
    "--     r.year AS review_year\n",
    "\n",
    "-- FROM {{ source('raw_airbnb_data', 'listings') }} l\n",
    "\n",
    "-- LEFT JOIN (\n",
    "--     SELECT\n",
    "--         host_id,\n",
    "--         host_name,\n",
    "--         YEAR(host_since) AS host_since_year,\n",
    "--         MONTH(host_since) AS host_since_month,\n",
    "--         DAY(host_since) AS host_since_day,\n",
    "--         CASE\n",
    "--             WHEN POSITION(',' IN host_location) > 0 THEN SPLIT_PART(host_location, ',', 1)\n",
    "--             ELSE NULL\n",
    "--         END AS city,\n",
    "--         CASE\n",
    "--             WHEN POSITION(',' IN host_location) > 0 THEN TRIM(SPLIT_PART(host_location, ',', 2))\n",
    "--             ELSE TRIM(host_location)\n",
    "--         END AS country,\n",
    "--         host_response_time,\n",
    "--         CASE\n",
    "--             WHEN host_response_rate IS NOT NULL THEN TRY_CAST(REPLACE(host_response_rate, '%', '') AS INT)\n",
    "--             ELSE NULL\n",
    "--         END AS host_response_rate,\n",
    "--         CASE\n",
    "--             WHEN host_is_superhost = 't' THEN TRUE\n",
    "--             WHEN host_is_superhost = 'f' THEN FALSE\n",
    "--             ELSE NULL\n",
    "--         END AS host_is_superhost,\n",
    "--         host_neighbourhood,\n",
    "--         CASE\n",
    "--             WHEN host_identity_verified = 't' THEN TRUE\n",
    "--             WHEN host_identity_verified = 'f' THEN FALSE\n",
    "--             ELSE NULL\n",
    "--         END AS host_identity_verified\n",
    "--     FROM {{ source('raw_airbnb_data', 'hosts') }}\n",
    "-- ) h ON l.host_id = h.host_id\n",
    "\n",
    "-- LEFT JOIN (\n",
    "--     SELECT\n",
    "--         listing_id,\n",
    "--         date,\n",
    "--         day,\n",
    "--         month,\n",
    "--         year\n",
    "--     FROM {{ source('raw_airbnb_data', 'reviews') }}\n",
    "-- ) r ON l.id = r.listing_id"
   ]
  },
  {
   "cell_type": "markdown",
   "id": "7ca5a8a9",
   "metadata": {},
   "source": [
    "models/curation/curation_listings.sql"
   ]
  },
  {
   "cell_type": "code",
   "execution_count": null,
   "id": "3c7e7f5d",
   "metadata": {
    "vscode": {
     "languageId": "sql"
    }
   },
   "outputs": [],
   "source": [
    "-- -- {{ config(materialized='table') }}\n",
    "\n",
    "-- SELECT \n",
    "--     id, \n",
    "--     listing_url, \n",
    "--     name, \n",
    "--     description, \n",
    "--     neighborhood_overview, \n",
    "--     host_id, \n",
    "--     latitude, \n",
    "--     longitude, \n",
    "--     property_type, \n",
    "--     room_type, \n",
    "--     accommodates, \n",
    "--     bathrooms, \n",
    "--     bedrooms, \n",
    "--     beds, \n",
    "--     amenities,\n",
    "--     -- Nettoyage et conversion du prix\n",
    "--     TRY_CAST(REPLACE(price, '$', '') AS FLOAT) AS price,\n",
    "--     minimum_nights, \n",
    "--     maximum_nights\n",
    "-- FROM {{ source('raw_airbnb_data', 'listings') }}\n"
   ]
  },
  {
   "cell_type": "markdown",
   "id": "9229a4b7",
   "metadata": {},
   "source": [
    "models/curation/curation_reviews.sql"
   ]
  },
  {
   "cell_type": "code",
   "execution_count": null,
   "id": "099f65a9",
   "metadata": {
    "vscode": {
     "languageId": "sql"
    }
   },
   "outputs": [],
   "source": [
    "-- SELECT \n",
    "--     listing_id,date , DAY , MONTH , YEAR\n",
    "-- FROM {{ source('raw_airbnb_data', 'reviews') }}\n",
    "\n"
   ]
  },
  {
   "cell_type": "markdown",
   "id": "d01a620b",
   "metadata": {},
   "source": [
    "models/curation/curation_tourists_per_year.sql"
   ]
  },
  {
   "cell_type": "code",
   "execution_count": null,
   "id": "876ca987",
   "metadata": {
    "vscode": {
     "languageId": "sql"
    }
   },
   "outputs": [],
   "source": [
    "-- SELECT \n",
    "--     year,tourists\n",
    "-- FROM AIRBNB.RAW.TOURISTS_PER_YEAR\n"
   ]
  },
  {
   "cell_type": "markdown",
   "id": "4a7a572a",
   "metadata": {},
   "source": [
    "models/schema.yml   pour les test "
   ]
  },
  {
   "cell_type": "code",
   "execution_count": null,
   "id": "041dd97b",
   "metadata": {
    "vscode": {
     "languageId": "latex"
    }
   },
   "outputs": [],
   "source": [
    "version: 2\n",
    "\n",
    "models:\n",
    "  - name: curation_hosts\n",
    "    description: \"Table hôtes nettoyée et formatée\"\n",
    "    columns:\n",
    "      - name: host_id\n",
    "        description: \"Identifiant unique de l'hôte\"\n",
    "        tests:\n",
    "          - unique\n",
    "          - not_null\n",
    "\n",
    "      - name: host_name\n",
    "        description: \"Nom de l'hôte (anonymisé si nécessaire)\"\n",
    "        tests:\n",
    "          - not_null\n",
    "\n",
    "      - name: HOST_RESPONSE_RATE\n",
    "        description: \"Date d'inscription de l'hôte\"\n",
    "        tests:\n",
    "          - not_null"
   ]
  },
  {
   "cell_type": "code",
   "execution_count": null,
   "id": "9093f837",
   "metadata": {
    "vscode": {
     "languageId": "latex"
    }
   },
   "outputs": [],
   "source": [
    "models/sources.yml   pour le lineage"
   ]
  },
  {
   "cell_type": "code",
   "execution_count": null,
   "id": "3a4d0b3d",
   "metadata": {
    "vscode": {
     "languageId": "latex"
    }
   },
   "outputs": [],
   "source": [
    "# version: 2\n",
    "\n",
    "# sources:\n",
    "#   - name: raw_airbnb_data\n",
    "#     description: \"Données brutes Airbnb chargées depuis le repository Git\"\n",
    "#     database: airbnb\n",
    "#     schema: raw\n",
    "#     tables:\n",
    "#       - name: hosts\n",
    "#       - name: listings\n",
    "#       - name: reviews\n",
    "\n"
   ]
  }
 ],
 "metadata": {
  "language_info": {
   "name": "python"
  }
 },
 "nbformat": 4,
 "nbformat_minor": 5
}
