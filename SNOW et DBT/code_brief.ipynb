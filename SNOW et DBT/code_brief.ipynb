{
 "cells": [
  {
   "cell_type": "markdown",
   "id": "7bf92da6",
   "metadata": {},
   "source": [
    "### code a mettre pour les role et droit dans snowflake  (sans cela probleme pour crée le schema)"
   ]
  },
  {
   "cell_type": "markdown",
   "id": "536dfa07",
   "metadata": {},
   "source": [
    "a faire dans snowlake en 1er créer le DWH avec calculer puis la BDD puis le user et le role et faire ce code ci-dessous"
   ]
  },
  {
   "cell_type": "code",
   "execution_count": null,
   "id": "6c235e77",
   "metadata": {
    "vscode": {
     "languageId": "sql"
    }
   },
   "outputs": [],
   "source": [
    "-- GRANT ALL ON WAREHOUSE NYC_TAXI_WH TO ROLE DBT_BRIEF_USER;\n",
    "-- GRANT ALL ON DATABASE NYC_TAXI_DB to ROLE DBT_BRIEF_USER;\n",
    "-- GRANT ALL ON ALL SCHEMAS IN DATABASE NYC_TAXI_DB to ROLE DBT_BRIEF_USER;\n",
    "-- GRANT ALL ON FUTURE SCHEMAS IN DATABASE NYC_TAXI_DB to ROLE DBT_BRIEF_USER;\n",
    "-- GRANT ALL ON ALL TABLES IN SCHEMA NYC_TAXI_DB.RAW to ROLE DBT_BRIEF_USER;\n",
    "-- GRANT ALL ON FUTURE TABLES IN SCHEMA NYC_TAXI_DB.RAW to ROLE DBT_BRIEF_USER;"
   ]
  },
  {
   "cell_type": "markdown",
   "id": "b6d4c0dc",
   "metadata": {},
   "source": [
    "## code dans le dossier NYC"
   ]
  },
  {
   "cell_type": "code",
   "execution_count": null,
   "id": "f7efdf8c",
   "metadata": {
    "vscode": {
     "languageId": "latex"
    }
   },
   "outputs": [],
   "source": [
    "les etape a faire dans DBT au debut\n",
    "crée le projet\n",
    "faire la connexion + les teste de la connexion\n"
   ]
  },
  {
   "cell_type": "markdown",
   "id": "a8a9ed8a",
   "metadata": {},
   "source": [
    "## attention les code sont modifier pour permet le lieage a partir du \"from\""
   ]
  },
  {
   "cell_type": "code",
   "execution_count": null,
   "id": "2edcbe28",
   "metadata": {
    "vscode": {
     "languageId": "latex"
    }
   },
   "outputs": [],
   "source": []
  },
  {
   "cell_type": "markdown",
   "id": "093cde7f",
   "metadata": {},
   "source": [
    "models/NYC/YELLOW_TAXI_TRIPS_1.sql\n",
    "\n",
    "code pour modifier les data brute de snowflake "
   ]
  },
  {
   "cell_type": "code",
   "execution_count": null,
   "id": "77498182",
   "metadata": {
    "vscode": {
     "languageId": "sql"
    }
   },
   "outputs": [],
   "source": [
    "-- -- code modif time stamp\n",
    "\n",
    "-- SELECT \n",
    "--     VENDORID,\n",
    "    \n",
    "--     -- Conversion du timestamp microsecondes en TIMESTAMP Snowflake\n",
    "--     -- Puis extraction des éléments souhaités\n",
    "--     TO_TIMESTAMP_NTZ(TPEP_PICKUP_DATETIME / 1000000) AS PICKUP_DATETIME,\n",
    "--     EXTRACT(MINUTE FROM TO_TIMESTAMP_NTZ(TPEP_PICKUP_DATETIME / 1000000)) AS PICKUP_MINUTE,\n",
    "--     EXTRACT(HOUR FROM TO_TIMESTAMP_NTZ(TPEP_PICKUP_DATETIME / 1000000)) AS PICKUP_HEURE,\n",
    "--     EXTRACT(DAY FROM TO_TIMESTAMP_NTZ(TPEP_PICKUP_DATETIME / 1000000)) AS PICKUP_JOUR,\n",
    "--     EXTRACT(MONTH FROM TO_TIMESTAMP_NTZ(TPEP_PICKUP_DATETIME / 1000000)) AS PICKUP_MOIS,\n",
    "--     EXTRACT(YEAR FROM TO_TIMESTAMP_NTZ(TPEP_PICKUP_DATETIME / 1000000)) AS PICKUP_ANNEE,\n",
    "\n",
    "--     TO_TIMESTAMP_NTZ(TPEP_DROPOFF_DATETIME / 1000000) AS DROPOFF_DATETIME,\n",
    "--     EXTRACT(MINUTE FROM TO_TIMESTAMP_NTZ(TPEP_DROPOFF_DATETIME / 1000000)) AS DROPOFF_MINUTE,\n",
    "--     EXTRACT(HOUR FROM TO_TIMESTAMP_NTZ(TPEP_DROPOFF_DATETIME / 1000000)) AS DROPOFF_HEURE,\n",
    "--     EXTRACT(DAY FROM TO_TIMESTAMP_NTZ(TPEP_DROPOFF_DATETIME / 1000000)) AS DROPOFF_JOUR,\n",
    "--     EXTRACT(MONTH FROM TO_TIMESTAMP_NTZ(TPEP_DROPOFF_DATETIME / 1000000)) AS DROPOFF_MOIS,\n",
    "--     EXTRACT(YEAR FROM TO_TIMESTAMP_NTZ(TPEP_DROPOFF_DATETIME / 1000000)) AS DROPOFF_ANNEE,\n",
    "    \n",
    "--     PASSENGER_COUNT,\n",
    "--     TRIP_DISTANCE,\n",
    "--     RATECODEID,\n",
    "--     STORE_AND_FWD_FLAG,\n",
    "--     PULOCATIONID,\n",
    "--     DOLOCATIONID,\n",
    "--     PAYMENT_TYPE,\n",
    "--     FARE_AMOUNT,\n",
    "--     EXTRA,\n",
    "--     MTA_TAX,\n",
    "--     TIP_AMOUNT,\n",
    "--     TOLLS_AMOUNT,\n",
    "--     IMPROVEMENT_SURCHARGE,\n",
    "--     TOTAL_AMOUNT,\n",
    "--     CONGESTION_SURCHARGE,\n",
    "--     AIRPORT_FEE,\n",
    "--     CBD_CONGESTION_FEE\n",
    "\n",
    "-- FROM NYC_TAXI_DB.RAW.YELLOW_TAXI_TRIPS\n"
   ]
  },
  {
   "cell_type": "markdown",
   "id": "9db91a36",
   "metadata": {},
   "source": [
    "models/NYC/Analyse.sql   (ici j'analyse la vue et non une table )  cela va crée un table dans SNOWFLAKE"
   ]
  },
  {
   "cell_type": "code",
   "execution_count": null,
   "id": "1fb98880",
   "metadata": {
    "vscode": {
     "languageId": "sql"
    }
   },
   "outputs": [],
   "source": [
    "-- SELECT\n",
    "--     COUNT(*) AS total_lignes,\n",
    "--     COUNT_IF(VENDORID IS NULL) AS nb_vendorid_null,\n",
    "--     COUNT_IF(PASSENGER_COUNT IS NULL) AS nb_passenger_null,\n",
    "--     COUNT_IF(TRIP_DISTANCE IS NULL) AS nb_trip_distance_null,\n",
    "--     COUNT_IF(FARE_AMOUNT IS NULL) AS nb_fare_null,\n",
    "--     COUNT_IF(TOTAL_AMOUNT IS NULL) AS nb_total_null,\n",
    "--     COUNT_IF(FARE_AMOUNT < 0) AS nb_fare_negatif,\n",
    "--     COUNT_IF(TOTAL_AMOUNT < 0) AS nb_total_negatif,\n",
    "--     COUNT_IF(TRIP_DISTANCE = 0) AS nb_trajet_distance_zero,\n",
    "--     COUNT_IF(TRIP_DISTANCE > 1000) AS nb_distance_aberrante\n",
    "-- FROM YELLOW_TAXI_TRIPS_1"
   ]
  },
  {
   "cell_type": "code",
   "execution_count": null,
   "id": "b2e5216c",
   "metadata": {
    "vscode": {
     "languageId": "sql"
    }
   },
   "outputs": [],
   "source": [
    "-- models\n",
    "-- /\n",
    "-- NYC\n",
    "-- /\n",
    "-- Analyse.sql\n",
    "\n",
    "\n",
    "-- SELECT\n",
    "--     COUNT(*) AS total_lignes,\n",
    "--     COUNT_IF(VENDORID IS NULL) AS nb_vendorid_null,\n",
    "--     COUNT_IF(PASSENGER_COUNT IS NULL) AS nb_passenger_null,\n",
    "--     COUNT_IF(TRIP_DISTANCE IS NULL) AS nb_trip_distance_null,\n",
    "--     COUNT_IF(FARE_AMOUNT IS NULL) AS nb_fare_null,\n",
    "--     COUNT_IF(TOTAL_AMOUNT IS NULL) AS nb_total_null,\n",
    "--     COUNT_IF(FARE_AMOUNT < 0) AS nb_fare_negatif,\n",
    "--     COUNT_IF(TOTAL_AMOUNT < 0) AS nb_total_negatif,\n",
    "--     COUNT_IF(TRIP_DISTANCE = 0) AS nb_trajet_distance_zero,\n",
    "--     COUNT_IF(TRIP_DISTANCE > 1000) AS nb_distance_aberrante\n",
    "-- FROM {{ source('raw', 'yellow_taxi_trips_1') }}\n"
   ]
  },
  {
   "cell_type": "markdown",
   "id": "e185e114",
   "metadata": {},
   "source": [
    "##   le code pour crée le schema  1 partie dans le dossier \"dbt_project.yml\" "
   ]
  },
  {
   "cell_type": "code",
   "execution_count": null,
   "id": "97d41d6c",
   "metadata": {
    "vscode": {
     "languageId": "latex"
    }
   },
   "outputs": [],
   "source": [
    "a mettre a la fin du code pour crée les schema (ne pas oublier de crée les dossier et des fichier ave juste des select)\n",
    "\n",
    "\n",
    "\n",
    "models:\n",
    "  my_new_project:\n",
    "    staging:\n",
    "      +materialized: table   # ou view, selon ton besoin\n",
    "      +schema: staging       # ou un autre schéma voulu\n",
    "    final:\n",
    "      +materialized: table   # ou view, selon ton besoin\n",
    "      +schema: final       # ou un autre schéma voulu      "
   ]
  },
  {
   "cell_type": "markdown",
   "id": "16cdbae5",
   "metadata": {},
   "source": [
    "##   le code pour crée le schema  2  partie dans le dossier \"generate_schema_name.sql\"  macros/generate_schema_name.sql"
   ]
  },
  {
   "cell_type": "code",
   "execution_count": null,
   "id": "0f298868",
   "metadata": {
    "vscode": {
     "languageId": "sql"
    }
   },
   "outputs": [],
   "source": [
    "-- {% macro generate_schema_name(custom_schema_name, node) -%}\n",
    "\n",
    "--     {%- set default_schema = target.schema -%}\n",
    "--     {%- if custom_schema_name is none -%}\n",
    "\n",
    "--         {{ default_schema }}\n",
    "\n",
    "--     {%- else -%}\n",
    "\n",
    "--         {{ custom_schema_name | trim }}\n",
    "\n",
    "--     {%- endif -%}\n",
    "\n",
    "-- {%- endmacro %}\n",
    "\n"
   ]
  },
  {
   "cell_type": "markdown",
   "id": "f2f06c1d",
   "metadata": {},
   "source": [
    "## code pour le lineage dans \n",
    "models\n",
    "/\n",
    "sources.yml"
   ]
  },
  {
   "cell_type": "code",
   "execution_count": null,
   "id": "be4d505b",
   "metadata": {
    "vscode": {
     "languageId": "latex"
    }
   },
   "outputs": [],
   "source": [
    "version: 2\n",
    "\n",
    "sources:\n",
    "  - name: raw\n",
    "    database: NYC_TAXI_DB\n",
    "    schema: raw\n",
    "    tables:\n",
    "      - name: yellow_taxi_trips\n",
    "      - name: yellow_taxi_trips_1"
   ]
  },
  {
   "cell_type": "markdown",
   "id": "bb815bfa",
   "metadata": {},
   "source": [
    "## code pour le dossier \"STAGING\""
   ]
  },
  {
   "cell_type": "markdown",
   "id": "0b4ca654",
   "metadata": {},
   "source": [
    "models/staging/clean_raw.sql"
   ]
  },
  {
   "cell_type": "code",
   "execution_count": null,
   "id": "1258e05e",
   "metadata": {
    "vscode": {
     "languageId": "sql"
    }
   },
   "outputs": [],
   "source": [
    "-- SELECT\n",
    "--     VENDORID,\n",
    "--     PICKUP_DATETIME,\n",
    "--     PICKUP_MINUTE,\n",
    "--     PICKUP_HEURE,\n",
    "--     PICKUP_JOUR,\n",
    "--     PICKUP_MOIS,\n",
    "--     PICKUP_ANNEE,\n",
    "--     DROPOFF_DATETIME,\n",
    "--     DROPOFF_MINUTE,\n",
    "--     DROPOFF_HEURE,\n",
    "--     DROPOFF_JOUR,\n",
    "--     DROPOFF_MOIS,\n",
    "--     DROPOFF_ANNEE,\n",
    "--     PASSENGER_COUNT,\n",
    "--     TRIP_DISTANCE,\n",
    "--     RATECODEID,\n",
    "--     STORE_AND_FWD_FLAG,\n",
    "--     PULOCATIONID,\n",
    "--     DOLOCATIONID,\n",
    "--     PAYMENT_TYPE,\n",
    "--     FARE_AMOUNT,\n",
    "--     EXTRA,\n",
    "--     MTA_TAX,\n",
    "--     TIP_AMOUNT,\n",
    "--     TOLLS_AMOUNT,\n",
    "--     IMPROVEMENT_SURCHARGE,\n",
    "--     TOTAL_AMOUNT,\n",
    "--     CONGESTION_SURCHARGE,\n",
    "--     AIRPORT_FEE,\n",
    "--     CBD_CONGESTION_FEE\n",
    "-- FROM {{ source('raw', 'yellow_taxi_trips_1') }}\n",
    "-- WHERE\n",
    "--       FARE_AMOUNT >= 0\n",
    "--   AND TOTAL_AMOUNT >= 0\n",
    "--   AND TRIP_DISTANCE BETWEEN 0.1 AND 100\n",
    "--   AND PULOCATIONID IS NOT NULL\n",
    "--   AND DOLOCATIONID IS NOT NULL"
   ]
  },
  {
   "cell_type": "markdown",
   "id": "1d1e0ba1",
   "metadata": {},
   "source": [
    "models/staging/calcul.sql"
   ]
  },
  {
   "cell_type": "code",
   "execution_count": null,
   "id": "81e55267",
   "metadata": {
    "vscode": {
     "languageId": "sql"
    }
   },
   "outputs": [],
   "source": [
    "-- {{ config(materialized='view') }}\n",
    "\n",
    "-- SELECT\n",
    "--     -- Nouvelles colonnes d'enrichissement d'abord\n",
    "--     DATEDIFF('minute', PICKUP_DATETIME, DROPOFF_DATETIME) AS duree_trajet_minutes,\n",
    "\n",
    "--     CASE \n",
    "--         WHEN DATEDIFF('minute', PICKUP_DATETIME, DROPOFF_DATETIME) > 0\n",
    "--             THEN TRIP_DISTANCE / (DATEDIFF('minute', PICKUP_DATETIME, DROPOFF_DATETIME) / 60.0)\n",
    "--         ELSE NULL\n",
    "--     END AS vitesse_moyenne_mph,\n",
    "\n",
    "--     -- Catégorisation de la distance du trajet\n",
    "--     CASE\n",
    "--         WHEN TRIP_DISTANCE <= 1 THEN 'Court trajet'\n",
    "--         WHEN TRIP_DISTANCE > 1 AND TRIP_DISTANCE <= 5 THEN 'Trajet moyen'\n",
    "--         WHEN TRIP_DISTANCE > 5 AND TRIP_DISTANCE <= 10 THEN 'Long trajet'\n",
    "--         WHEN TRIP_DISTANCE > 10 THEN 'Très long trajet'\n",
    "--         ELSE 'Inconnu'\n",
    "--     END AS categorie_trajet,\n",
    "\n",
    "--     CASE \n",
    "--         WHEN FARE_AMOUNT > 0\n",
    "--             THEN (TIP_AMOUNT / FARE_AMOUNT) * 100\n",
    "--         ELSE NULL\n",
    "--     END AS pourcentage_pourboire,\n",
    "\n",
    "--     -- Toutes les autres colonnes\n",
    "--     *\n",
    "-- FROM {{ ref('clean_raw') }}\n",
    "-- WHERE PICKUP_ANNEE IN (2024, 2025)"
   ]
  },
  {
   "cell_type": "markdown",
   "id": "bf74a536",
   "metadata": {},
   "source": [
    "## code pour le dossier \"FINAL\""
   ]
  },
  {
   "cell_type": "markdown",
   "id": "6f048dcc",
   "metadata": {},
   "source": [
    "daily_summary.sql"
   ]
  },
  {
   "cell_type": "code",
   "execution_count": null,
   "id": "c27611d1",
   "metadata": {
    "vscode": {
     "languageId": "sql"
    }
   },
   "outputs": [],
   "source": [
    "-- {{ config(materialized='table') }}\n",
    "\n",
    "-- SELECT\n",
    "--     -- On isole la date du pickup pour le regroupement par jour\n",
    "--     DATE(PICKUP_DATETIME) AS pickup_date,\n",
    "\n",
    "--     -- Nombre de trajets dans la journée\n",
    "--     COUNT(*) AS nb_trajets,\n",
    "\n",
    "--     -- Distance moyenne par trajet ce jour-là\n",
    "--     AVG(TRIP_DISTANCE) AS distance_moyenne,\n",
    "\n",
    "--     -- Revenus totaux (total_amount = tout ce qui rapporte pour le chauffeur)\n",
    "--     SUM(TOTAL_AMOUNT) AS revenus_totaux\n",
    "\n",
    "-- FROM {{ ref('calcul') }}\n",
    "\n",
    "-- GROUP BY \n",
    "--     DATE(PICKUP_DATETIME)\n",
    "-- ORDER BY\n",
    "--     pickup_date"
   ]
  },
  {
   "cell_type": "markdown",
   "id": "55bd1a55",
   "metadata": {},
   "source": [
    "hourly_patterns.sql"
   ]
  },
  {
   "cell_type": "code",
   "execution_count": null,
   "id": "ecf0366c",
   "metadata": {
    "vscode": {
     "languageId": "sql"
    }
   },
   "outputs": [],
   "source": [
    "-- {{ config(materialized='table') }}\n",
    "\n",
    "-- SELECT\n",
    "--     -- Date et heure de départ du trajet (granularité heure)\n",
    "--     DATE(PICKUP_DATETIME) AS pickup_date,\n",
    "--     PICKUP_HEURE,\n",
    "\n",
    "--     -- Demande : nombre de trajets par heure\n",
    "--     COUNT(*) AS demande,\n",
    "\n",
    "--     -- Revenus totaux générés sur ce créneau horaire\n",
    "--     SUM(TOTAL_AMOUNT) AS revenus,\n",
    "\n",
    "--     -- Vitesse moyenne par heure (miles/h)\n",
    "--     AVG(vitesse_moyenne_mph) AS vitesse_moyenne\n",
    "\n",
    "-- FROM {{ ref('calcul') }}\n",
    "\n",
    "-- GROUP BY\n",
    "--     DATE(PICKUP_DATETIME),\n",
    "--     PICKUP_HEURE\n",
    "\n",
    "-- ORDER BY\n",
    "--     pickup_date,\n",
    "--     PICKUP_HEURE"
   ]
  },
  {
   "cell_type": "markdown",
   "id": "b0f7a960",
   "metadata": {},
   "source": [
    "\n",
    "zone_analysis.sql"
   ]
  },
  {
   "cell_type": "code",
   "execution_count": null,
   "id": "a5b8287a",
   "metadata": {
    "vscode": {
     "languageId": "sql"
    }
   },
   "outputs": [],
   "source": [
    "-- {{ config(materialized='table') }}\n",
    "\n",
    "-- SELECT\n",
    "--     -- La zone de départ\n",
    "--     PULOCATIONID AS zone_depart,\n",
    "\n",
    "--     -- Nombre de trajets (volume) pour chaque zone\n",
    "--     COUNT(*) AS volume_trajets,\n",
    "\n",
    "--     -- Revenu moyen par course pour chaque zone\n",
    "--     AVG(TOTAL_AMOUNT) AS revenu_moyen,\n",
    "\n",
    "--     -- Popularité : proportion du volume de la zone par rapport à l'ensemble (en %)\n",
    "--     (COUNT(*)*100.0) / SUM(COUNT(*)) OVER () AS popularite_pourcent\n",
    "\n",
    "-- FROM {{ ref('calcul') }}\n",
    "\n",
    "-- GROUP BY\n",
    "--     PULOCATIONID\n",
    "\n",
    "-- ORDER BY\n",
    "--     volume_trajets DESC"
   ]
  },
  {
   "cell_type": "markdown",
   "id": "221d7e57",
   "metadata": {},
   "source": [
    "KPI.sql"
   ]
  },
  {
   "cell_type": "code",
   "execution_count": null,
   "id": "738e9b24",
   "metadata": {
    "vscode": {
     "languageId": "sql"
    }
   },
   "outputs": [],
   "source": [
    "-- {{ config(materialized='view') }}\n",
    "\n",
    "-- WITH base AS (\n",
    "--     SELECT\n",
    "--         TO_TIMESTAMP(PICKUP_DATETIME) AS pickup_ts,\n",
    "--         PULOCATIONID,\n",
    "--         TOTAL_AMOUNT,\n",
    "--         TRIP_DISTANCE\n",
    "--     FROM {{ ref('calcul') }}\n",
    "\n",
    "-- )\n",
    "\n",
    "-- -- 1. Nombre total de trajets par mois\n",
    "-- , trajets_par_mois AS (\n",
    "--     SELECT\n",
    "--         TO_CHAR(pickup_ts, 'YYYY-MM') AS mois,\n",
    "--         COUNT(*) AS nb_trajets\n",
    "--     FROM base\n",
    "--     GROUP BY mois\n",
    "--     ORDER BY mois\n",
    "-- )\n",
    "\n",
    "-- -- 2. Revenu moyen par trajet \n",
    "-- , revenu_moyen AS (\n",
    "--     SELECT\n",
    "--         AVG(TOTAL_AMOUNT) AS revenu_moyen_par_trajet\n",
    "--     FROM base\n",
    "-- )\n",
    "\n",
    "-- -- 3. Distance moyenne parcourue \n",
    "-- , distance_moyenne AS (\n",
    "--     SELECT\n",
    "--         AVG(TRIP_DISTANCE) AS distance_moyenne\n",
    "--     FROM base\n",
    "-- )\n",
    "\n",
    "-- -- 4. Top 10 zones les plus populaires (départs)\n",
    "-- , top_zones AS (\n",
    "--     SELECT\n",
    "--         PULOCATIONID,\n",
    "--         COUNT(*) AS nb_trajets_zone\n",
    "--     FROM base\n",
    "--     WHERE PULOCATIONID IS NOT NULL\n",
    "--     GROUP BY PULOCATIONID\n",
    "--     ORDER BY nb_trajets_zone DESC\n",
    "--     LIMIT 10\n",
    "-- )\n",
    "\n",
    "-- -- 5. Analyse des heures de pointe (par nombre de trajets)\n",
    "-- , heures_pointe AS (\n",
    "--     SELECT\n",
    "--         EXTRACT(HOUR FROM pickup_ts) AS heure,\n",
    "--         COUNT(*) AS nb_trajets\n",
    "--     FROM base\n",
    "--     GROUP BY heure\n",
    "--     ORDER BY nb_trajets DESC\n",
    "--     LIMIT 5\n",
    "-- )\n",
    "\n",
    "-- -- Sélection finale, pour présenter tous les KPI\n",
    "-- SELECT \n",
    "--     'Trajets par mois' AS kpi, \n",
    "--     mois, \n",
    "--     nb_trajets, \n",
    "--     NULL AS info\n",
    "-- FROM trajets_par_mois\n",
    "\n",
    "-- UNION ALL\n",
    "\n",
    "-- SELECT \n",
    "--     'Revenu moyen par trajet', \n",
    "--     NULL, \n",
    "--     NULL, \n",
    "--     CAST(revenu_moyen_par_trajet AS STRING)\n",
    "-- FROM revenu_moyen\n",
    "\n",
    "-- UNION ALL\n",
    "\n",
    "-- SELECT \n",
    "--     'Distance moyenne parcourue', \n",
    "--     NULL, \n",
    "--     NULL, \n",
    "--     CAST(distance_moyenne AS STRING)\n",
    "-- FROM distance_moyenne\n",
    "\n",
    "-- UNION ALL\n",
    "\n",
    "-- SELECT \n",
    "--     'Top zone populaire (pickup)', \n",
    "--     NULL, \n",
    "--     nb_trajets_zone, \n",
    "--     CAST(PULOCATIONID AS STRING)\n",
    "-- FROM top_zones\n",
    "\n",
    "-- UNION ALL\n",
    "\n",
    "-- SELECT \n",
    "--     'Top heure de pointe', \n",
    "--     NULL, \n",
    "--     nb_trajets, \n",
    "--     CAST(heure AS STRING)\n",
    "-- FROM heures_pointe"
   ]
  },
  {
   "cell_type": "markdown",
   "id": "fc42388e",
   "metadata": {},
   "source": [
    "renta_day.sql"
   ]
  },
  {
   "cell_type": "code",
   "execution_count": null,
   "id": "2676439f",
   "metadata": {
    "vscode": {
     "languageId": "sql"
    }
   },
   "outputs": [],
   "source": [
    "-- {{ config(materialized='view') }}\n",
    "\n",
    "-- WITH base AS (\n",
    "--     SELECT\n",
    "--         -- Extraction du jour de la semaine (0 = Dimanche, 1 = Lundi, ...)\n",
    "--         DAYOFWEEK(PICKUP_DATETIME) AS jour_num,\n",
    "--         CASE \n",
    "--             WHEN DAYOFWEEK(PICKUP_DATETIME) = 0 THEN 'Dimanche'\n",
    "--             WHEN DAYOFWEEK(PICKUP_DATETIME) = 1 THEN 'Lundi'\n",
    "--             WHEN DAYOFWEEK(PICKUP_DATETIME) = 2 THEN 'Mardi'\n",
    "--             WHEN DAYOFWEEK(PICKUP_DATETIME) = 3 THEN 'Mercredi'\n",
    "--             WHEN DAYOFWEEK(PICKUP_DATETIME) = 4 THEN 'Jeudi'\n",
    "--             WHEN DAYOFWEEK(PICKUP_DATETIME) = 5 THEN 'Vendredi'\n",
    "--             WHEN DAYOFWEEK(PICKUP_DATETIME) = 6 THEN 'Samedi'\n",
    "--         END AS jour_semaine,\n",
    "--         TOTAL_AMOUNT\n",
    "--     FROM {{ ref('calcul') }}\n",
    "-- )\n",
    "-- SELECT\n",
    "--     jour_semaine,\n",
    "--     SUM(TOTAL_AMOUNT) AS revenus_totaux,\n",
    "--     ROUND(100 * SUM(TOTAL_AMOUNT) / SUM(SUM(TOTAL_AMOUNT)) OVER (), 2) AS pourcentage_revenus\n",
    "-- FROM base\n",
    "-- GROUP BY jour_num, jour_semaine\n",
    "-- ORDER BY pourcentage_revenus DESC"
   ]
  },
  {
   "cell_type": "markdown",
   "id": "fc92f281",
   "metadata": {},
   "source": [
    "renta_hours.sql\n",
    "\n"
   ]
  },
  {
   "cell_type": "code",
   "execution_count": null,
   "id": "25bb4308",
   "metadata": {
    "vscode": {
     "languageId": "sql"
    }
   },
   "outputs": [],
   "source": [
    "-- {{ config(materialized='view') }}\n",
    "\n",
    "-- WITH base AS (\n",
    "--     SELECT\n",
    "--         TO_TIMESTAMP(PICKUP_DATETIME) AS pickup_ts,\n",
    "--         TOTAL_AMOUNT\n",
    "--     FROM {{ ref('calcul') }}\n",
    "-- )\n",
    "-- SELECT\n",
    "--     EXTRACT(HOUR FROM pickup_ts) AS heure,\n",
    "--     SUM(TOTAL_AMOUNT) AS revenus_totaux,\n",
    "--     ROUND(100 * SUM(TOTAL_AMOUNT) / SUM(SUM(TOTAL_AMOUNT)) OVER (), 2) AS pourcentage_revenus\n",
    "-- FROM base\n",
    "-- GROUP BY heure\n",
    "-- ORDER BY pourcentage_revenus DESC"
   ]
  },
  {
   "cell_type": "markdown",
   "id": "111c3e27",
   "metadata": {},
   "source": [
    "renta_month.sql\n",
    "\n"
   ]
  },
  {
   "cell_type": "code",
   "execution_count": null,
   "id": "cc80d485",
   "metadata": {
    "vscode": {
     "languageId": "sql"
    }
   },
   "outputs": [],
   "source": [
    "-- {{ config(materialized='view') }}\n",
    "\n",
    "-- WITH base AS (\n",
    "--     SELECT\n",
    "--         TO_TIMESTAMP(PICKUP_DATETIME) AS pickup_ts,\n",
    "--         TOTAL_AMOUNT\n",
    "--     FROM {{ ref('calcul') }}\n",
    "-- )\n",
    "-- SELECT\n",
    "--     TO_CHAR(pickup_ts, 'Month') AS mois,\n",
    "--     MONTH(pickup_ts) AS mois_num,\n",
    "--     SUM(TOTAL_AMOUNT) AS revenus_totaux,\n",
    "--     ROUND(100 * SUM(TOTAL_AMOUNT) / SUM(SUM(TOTAL_AMOUNT)) OVER (), 2) AS pourcentage_revenus\n",
    "-- FROM base\n",
    "-- GROUP BY mois, mois_num\n",
    "-- ORDER BY pourcentage_revenus DESC"
   ]
  }
 ],
 "metadata": {
  "language_info": {
   "name": "python"
  }
 },
 "nbformat": 4,
 "nbformat_minor": 5
}
